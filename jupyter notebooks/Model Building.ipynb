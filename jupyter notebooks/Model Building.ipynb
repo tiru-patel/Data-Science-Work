{
 "cells": [
  {
   "cell_type": "code",
   "execution_count": 1,
   "metadata": {},
   "outputs": [],
   "source": [
    "import numpy as np\n",
    "import pandas as pd\n",
    "import seaborn as sns\n",
    "import matplotlib.pyplot as plt\n",
    "import pickle\n",
    "%matplotlib inline\n",
    "\n",
    "from sklearn import preprocessing\n",
    "from sklearn.decomposition import PCA\n",
    "from sklearn.model_selection import train_test_split\n",
    "from sklearn.tree import DecisionTreeClassifier\n",
    "from sklearn.linear_model import LogisticRegression"
   ]
  },
  {
   "cell_type": "code",
   "execution_count": 2,
   "metadata": {},
   "outputs": [
    {
     "data": {
      "text/html": [
       "<div>\n",
       "<style scoped>\n",
       "    .dataframe tbody tr th:only-of-type {\n",
       "        vertical-align: middle;\n",
       "    }\n",
       "\n",
       "    .dataframe tbody tr th {\n",
       "        vertical-align: top;\n",
       "    }\n",
       "\n",
       "    .dataframe thead th {\n",
       "        text-align: right;\n",
       "    }\n",
       "</style>\n",
       "<table border=\"1\" class=\"dataframe\">\n",
       "  <thead>\n",
       "    <tr style=\"text-align: right;\">\n",
       "      <th></th>\n",
       "      <th>track_id</th>\n",
       "      <th>acousticness</th>\n",
       "      <th>danceability</th>\n",
       "      <th>energy</th>\n",
       "      <th>instrumentalness</th>\n",
       "      <th>liveness</th>\n",
       "      <th>speechiness</th>\n",
       "      <th>tempo</th>\n",
       "      <th>valence</th>\n",
       "      <th>genre_top</th>\n",
       "    </tr>\n",
       "  </thead>\n",
       "  <tbody>\n",
       "    <tr>\n",
       "      <th>0</th>\n",
       "      <td>2</td>\n",
       "      <td>0.416675</td>\n",
       "      <td>0.675894</td>\n",
       "      <td>0.634476</td>\n",
       "      <td>0.010628</td>\n",
       "      <td>0.177647</td>\n",
       "      <td>0.159310</td>\n",
       "      <td>165.922</td>\n",
       "      <td>0.576661</td>\n",
       "      <td>Hip-Hop</td>\n",
       "    </tr>\n",
       "    <tr>\n",
       "      <th>1</th>\n",
       "      <td>3</td>\n",
       "      <td>0.374408</td>\n",
       "      <td>0.528643</td>\n",
       "      <td>0.817461</td>\n",
       "      <td>0.001851</td>\n",
       "      <td>0.105880</td>\n",
       "      <td>0.461818</td>\n",
       "      <td>126.957</td>\n",
       "      <td>0.269240</td>\n",
       "      <td>Hip-Hop</td>\n",
       "    </tr>\n",
       "    <tr>\n",
       "      <th>2</th>\n",
       "      <td>5</td>\n",
       "      <td>0.043567</td>\n",
       "      <td>0.745566</td>\n",
       "      <td>0.701470</td>\n",
       "      <td>0.000697</td>\n",
       "      <td>0.373143</td>\n",
       "      <td>0.124595</td>\n",
       "      <td>100.260</td>\n",
       "      <td>0.621661</td>\n",
       "      <td>Hip-Hop</td>\n",
       "    </tr>\n",
       "    <tr>\n",
       "      <th>3</th>\n",
       "      <td>134</td>\n",
       "      <td>0.452217</td>\n",
       "      <td>0.513238</td>\n",
       "      <td>0.560410</td>\n",
       "      <td>0.019443</td>\n",
       "      <td>0.096567</td>\n",
       "      <td>0.525519</td>\n",
       "      <td>114.290</td>\n",
       "      <td>0.894072</td>\n",
       "      <td>Hip-Hop</td>\n",
       "    </tr>\n",
       "    <tr>\n",
       "      <th>4</th>\n",
       "      <td>153</td>\n",
       "      <td>0.988306</td>\n",
       "      <td>0.255661</td>\n",
       "      <td>0.979774</td>\n",
       "      <td>0.973006</td>\n",
       "      <td>0.121342</td>\n",
       "      <td>0.051740</td>\n",
       "      <td>90.241</td>\n",
       "      <td>0.034018</td>\n",
       "      <td>Rock</td>\n",
       "    </tr>\n",
       "  </tbody>\n",
       "</table>\n",
       "</div>"
      ],
      "text/plain": [
       "   track_id  acousticness  danceability    energy  instrumentalness  liveness  \\\n",
       "0         2      0.416675      0.675894  0.634476          0.010628  0.177647   \n",
       "1         3      0.374408      0.528643  0.817461          0.001851  0.105880   \n",
       "2         5      0.043567      0.745566  0.701470          0.000697  0.373143   \n",
       "3       134      0.452217      0.513238  0.560410          0.019443  0.096567   \n",
       "4       153      0.988306      0.255661  0.979774          0.973006  0.121342   \n",
       "\n",
       "   speechiness    tempo   valence genre_top  \n",
       "0     0.159310  165.922  0.576661   Hip-Hop  \n",
       "1     0.461818  126.957  0.269240   Hip-Hop  \n",
       "2     0.124595  100.260  0.621661   Hip-Hop  \n",
       "3     0.525519  114.290  0.894072   Hip-Hop  \n",
       "4     0.051740   90.241  0.034018      Rock  "
      ]
     },
     "execution_count": 2,
     "metadata": {},
     "output_type": "execute_result"
    }
   ],
   "source": [
    "import os \n",
    "os.chdir(\"D:\\\\Technocolabs Data Science Internship\")\n",
    "df = pd.read_csv('data.csv')\n",
    "df.head()"
   ]
  },
  {
   "cell_type": "code",
   "execution_count": 3,
   "metadata": {},
   "outputs": [
    {
     "data": {
      "text/html": [
       "<style  type=\"text/css\" >\n",
       "    #T_c4dbc964_094e_11eb_81eb_f8b46a1219c5row0_col0 {\n",
       "            background-color:  #023858;\n",
       "            color:  #f1f1f1;\n",
       "        }    #T_c4dbc964_094e_11eb_81eb_f8b46a1219c5row0_col1 {\n",
       "            background-color:  #fff7fb;\n",
       "            color:  #000000;\n",
       "        }    #T_c4dbc964_094e_11eb_81eb_f8b46a1219c5row0_col2 {\n",
       "            background-color:  #d2d2e7;\n",
       "            color:  #000000;\n",
       "        }    #T_c4dbc964_094e_11eb_81eb_f8b46a1219c5row0_col3 {\n",
       "            background-color:  #b5c4df;\n",
       "            color:  #000000;\n",
       "        }    #T_c4dbc964_094e_11eb_81eb_f8b46a1219c5row0_col4 {\n",
       "            background-color:  #f5eef6;\n",
       "            color:  #000000;\n",
       "        }    #T_c4dbc964_094e_11eb_81eb_f8b46a1219c5row0_col5 {\n",
       "            background-color:  #e9e5f1;\n",
       "            color:  #000000;\n",
       "        }    #T_c4dbc964_094e_11eb_81eb_f8b46a1219c5row0_col6 {\n",
       "            background-color:  #d1d2e6;\n",
       "            color:  #000000;\n",
       "        }    #T_c4dbc964_094e_11eb_81eb_f8b46a1219c5row0_col7 {\n",
       "            background-color:  #e1dfed;\n",
       "            color:  #000000;\n",
       "        }    #T_c4dbc964_094e_11eb_81eb_f8b46a1219c5row0_col8 {\n",
       "            background-color:  #dedcec;\n",
       "            color:  #000000;\n",
       "        }    #T_c4dbc964_094e_11eb_81eb_f8b46a1219c5row1_col0 {\n",
       "            background-color:  #fff7fb;\n",
       "            color:  #000000;\n",
       "        }    #T_c4dbc964_094e_11eb_81eb_f8b46a1219c5row1_col1 {\n",
       "            background-color:  #023858;\n",
       "            color:  #f1f1f1;\n",
       "        }    #T_c4dbc964_094e_11eb_81eb_f8b46a1219c5row1_col2 {\n",
       "            background-color:  #e0dded;\n",
       "            color:  #000000;\n",
       "        }    #T_c4dbc964_094e_11eb_81eb_f8b46a1219c5row1_col3 {\n",
       "            background-color:  #fff7fb;\n",
       "            color:  #000000;\n",
       "        }    #T_c4dbc964_094e_11eb_81eb_f8b46a1219c5row1_col4 {\n",
       "            background-color:  #97b7d7;\n",
       "            color:  #000000;\n",
       "        }    #T_c4dbc964_094e_11eb_81eb_f8b46a1219c5row1_col5 {\n",
       "            background-color:  #f3edf5;\n",
       "            color:  #000000;\n",
       "        }    #T_c4dbc964_094e_11eb_81eb_f8b46a1219c5row1_col6 {\n",
       "            background-color:  #b8c6e0;\n",
       "            color:  #000000;\n",
       "        }    #T_c4dbc964_094e_11eb_81eb_f8b46a1219c5row1_col7 {\n",
       "            background-color:  #e1dfed;\n",
       "            color:  #000000;\n",
       "        }    #T_c4dbc964_094e_11eb_81eb_f8b46a1219c5row1_col8 {\n",
       "            background-color:  #e2dfee;\n",
       "            color:  #000000;\n",
       "        }    #T_c4dbc964_094e_11eb_81eb_f8b46a1219c5row2_col0 {\n",
       "            background-color:  #bdc8e1;\n",
       "            color:  #000000;\n",
       "        }    #T_c4dbc964_094e_11eb_81eb_f8b46a1219c5row2_col1 {\n",
       "            background-color:  #d0d1e6;\n",
       "            color:  #000000;\n",
       "        }    #T_c4dbc964_094e_11eb_81eb_f8b46a1219c5row2_col2 {\n",
       "            background-color:  #023858;\n",
       "            color:  #f1f1f1;\n",
       "        }    #T_c4dbc964_094e_11eb_81eb_f8b46a1219c5row2_col3 {\n",
       "            background-color:  #fbf3f9;\n",
       "            color:  #000000;\n",
       "        }    #T_c4dbc964_094e_11eb_81eb_f8b46a1219c5row2_col4 {\n",
       "            background-color:  #f3edf5;\n",
       "            color:  #000000;\n",
       "        }    #T_c4dbc964_094e_11eb_81eb_f8b46a1219c5row2_col5 {\n",
       "            background-color:  #fff7fb;\n",
       "            color:  #000000;\n",
       "        }    #T_c4dbc964_094e_11eb_81eb_f8b46a1219c5row2_col6 {\n",
       "            background-color:  #80aed2;\n",
       "            color:  #000000;\n",
       "        }    #T_c4dbc964_094e_11eb_81eb_f8b46a1219c5row2_col7 {\n",
       "            background-color:  #fff7fb;\n",
       "            color:  #000000;\n",
       "        }    #T_c4dbc964_094e_11eb_81eb_f8b46a1219c5row2_col8 {\n",
       "            background-color:  #529bc7;\n",
       "            color:  #000000;\n",
       "        }    #T_c4dbc964_094e_11eb_81eb_f8b46a1219c5row3_col0 {\n",
       "            background-color:  #a7bddb;\n",
       "            color:  #000000;\n",
       "        }    #T_c4dbc964_094e_11eb_81eb_f8b46a1219c5row3_col1 {\n",
       "            background-color:  #f5eff6;\n",
       "            color:  #000000;\n",
       "        }    #T_c4dbc964_094e_11eb_81eb_f8b46a1219c5row3_col2 {\n",
       "            background-color:  #fef6fa;\n",
       "            color:  #000000;\n",
       "        }    #T_c4dbc964_094e_11eb_81eb_f8b46a1219c5row3_col3 {\n",
       "            background-color:  #023858;\n",
       "            color:  #f1f1f1;\n",
       "        }    #T_c4dbc964_094e_11eb_81eb_f8b46a1219c5row3_col4 {\n",
       "            background-color:  #c4cbe3;\n",
       "            color:  #000000;\n",
       "        }    #T_c4dbc964_094e_11eb_81eb_f8b46a1219c5row3_col5 {\n",
       "            background-color:  #dcdaeb;\n",
       "            color:  #000000;\n",
       "        }    #T_c4dbc964_094e_11eb_81eb_f8b46a1219c5row3_col6 {\n",
       "            background-color:  #dedcec;\n",
       "            color:  #000000;\n",
       "        }    #T_c4dbc964_094e_11eb_81eb_f8b46a1219c5row3_col7 {\n",
       "            background-color:  #adc1dd;\n",
       "            color:  #000000;\n",
       "        }    #T_c4dbc964_094e_11eb_81eb_f8b46a1219c5row3_col8 {\n",
       "            background-color:  #d9d8ea;\n",
       "            color:  #000000;\n",
       "        }    #T_c4dbc964_094e_11eb_81eb_f8b46a1219c5row4_col0 {\n",
       "            background-color:  #f4eef6;\n",
       "            color:  #000000;\n",
       "        }    #T_c4dbc964_094e_11eb_81eb_f8b46a1219c5row4_col1 {\n",
       "            background-color:  #97b7d7;\n",
       "            color:  #000000;\n",
       "        }    #T_c4dbc964_094e_11eb_81eb_f8b46a1219c5row4_col2 {\n",
       "            background-color:  #fff7fb;\n",
       "            color:  #000000;\n",
       "        }    #T_c4dbc964_094e_11eb_81eb_f8b46a1219c5row4_col3 {\n",
       "            background-color:  #d2d3e7;\n",
       "            color:  #000000;\n",
       "        }    #T_c4dbc964_094e_11eb_81eb_f8b46a1219c5row4_col4 {\n",
       "            background-color:  #023858;\n",
       "            color:  #f1f1f1;\n",
       "        }    #T_c4dbc964_094e_11eb_81eb_f8b46a1219c5row4_col5 {\n",
       "            background-color:  #fdf5fa;\n",
       "            color:  #000000;\n",
       "        }    #T_c4dbc964_094e_11eb_81eb_f8b46a1219c5row4_col6 {\n",
       "            background-color:  #fff7fb;\n",
       "            color:  #000000;\n",
       "        }    #T_c4dbc964_094e_11eb_81eb_f8b46a1219c5row4_col7 {\n",
       "            background-color:  #d9d8ea;\n",
       "            color:  #000000;\n",
       "        }    #T_c4dbc964_094e_11eb_81eb_f8b46a1219c5row4_col8 {\n",
       "            background-color:  #fff7fb;\n",
       "            color:  #000000;\n",
       "        }    #T_c4dbc964_094e_11eb_81eb_f8b46a1219c5row5_col0 {\n",
       "            background-color:  #bdc8e1;\n",
       "            color:  #000000;\n",
       "        }    #T_c4dbc964_094e_11eb_81eb_f8b46a1219c5row5_col1 {\n",
       "            background-color:  #ced0e6;\n",
       "            color:  #000000;\n",
       "        }    #T_c4dbc964_094e_11eb_81eb_f8b46a1219c5row5_col2 {\n",
       "            background-color:  #ede8f3;\n",
       "            color:  #000000;\n",
       "        }    #T_c4dbc964_094e_11eb_81eb_f8b46a1219c5row5_col3 {\n",
       "            background-color:  #bdc8e1;\n",
       "            color:  #000000;\n",
       "        }    #T_c4dbc964_094e_11eb_81eb_f8b46a1219c5row5_col4 {\n",
       "            background-color:  #dbdaeb;\n",
       "            color:  #000000;\n",
       "        }    #T_c4dbc964_094e_11eb_81eb_f8b46a1219c5row5_col5 {\n",
       "            background-color:  #023858;\n",
       "            color:  #f1f1f1;\n",
       "        }    #T_c4dbc964_094e_11eb_81eb_f8b46a1219c5row5_col6 {\n",
       "            background-color:  #c0c9e2;\n",
       "            color:  #000000;\n",
       "        }    #T_c4dbc964_094e_11eb_81eb_f8b46a1219c5row5_col7 {\n",
       "            background-color:  #dcdaeb;\n",
       "            color:  #000000;\n",
       "        }    #T_c4dbc964_094e_11eb_81eb_f8b46a1219c5row5_col8 {\n",
       "            background-color:  #e8e4f0;\n",
       "            color:  #000000;\n",
       "        }    #T_c4dbc964_094e_11eb_81eb_f8b46a1219c5row6_col0 {\n",
       "            background-color:  #d0d1e6;\n",
       "            color:  #000000;\n",
       "        }    #T_c4dbc964_094e_11eb_81eb_f8b46a1219c5row6_col1 {\n",
       "            background-color:  #b8c6e0;\n",
       "            color:  #000000;\n",
       "        }    #T_c4dbc964_094e_11eb_81eb_f8b46a1219c5row6_col2 {\n",
       "            background-color:  #93b5d6;\n",
       "            color:  #000000;\n",
       "        }    #T_c4dbc964_094e_11eb_81eb_f8b46a1219c5row6_col3 {\n",
       "            background-color:  #eae6f1;\n",
       "            color:  #000000;\n",
       "        }    #T_c4dbc964_094e_11eb_81eb_f8b46a1219c5row6_col4 {\n",
       "            background-color:  #fff7fb;\n",
       "            color:  #000000;\n",
       "        }    #T_c4dbc964_094e_11eb_81eb_f8b46a1219c5row6_col5 {\n",
       "            background-color:  #eae6f1;\n",
       "            color:  #000000;\n",
       "        }    #T_c4dbc964_094e_11eb_81eb_f8b46a1219c5row6_col6 {\n",
       "            background-color:  #023858;\n",
       "            color:  #f1f1f1;\n",
       "        }    #T_c4dbc964_094e_11eb_81eb_f8b46a1219c5row6_col7 {\n",
       "            background-color:  #dbdaeb;\n",
       "            color:  #000000;\n",
       "        }    #T_c4dbc964_094e_11eb_81eb_f8b46a1219c5row6_col8 {\n",
       "            background-color:  #bfc9e1;\n",
       "            color:  #000000;\n",
       "        }    #T_c4dbc964_094e_11eb_81eb_f8b46a1219c5row7_col0 {\n",
       "            background-color:  #d0d1e6;\n",
       "            color:  #000000;\n",
       "        }    #T_c4dbc964_094e_11eb_81eb_f8b46a1219c5row7_col1 {\n",
       "            background-color:  #d0d1e6;\n",
       "            color:  #000000;\n",
       "        }    #T_c4dbc964_094e_11eb_81eb_f8b46a1219c5row7_col2 {\n",
       "            background-color:  #fef6fa;\n",
       "            color:  #000000;\n",
       "        }    #T_c4dbc964_094e_11eb_81eb_f8b46a1219c5row7_col3 {\n",
       "            background-color:  #a7bddb;\n",
       "            color:  #000000;\n",
       "        }    #T_c4dbc964_094e_11eb_81eb_f8b46a1219c5row7_col4 {\n",
       "            background-color:  #c5cce3;\n",
       "            color:  #000000;\n",
       "        }    #T_c4dbc964_094e_11eb_81eb_f8b46a1219c5row7_col5 {\n",
       "            background-color:  #f0eaf4;\n",
       "            color:  #000000;\n",
       "        }    #T_c4dbc964_094e_11eb_81eb_f8b46a1219c5row7_col6 {\n",
       "            background-color:  #c8cde4;\n",
       "            color:  #000000;\n",
       "        }    #T_c4dbc964_094e_11eb_81eb_f8b46a1219c5row7_col7 {\n",
       "            background-color:  #023858;\n",
       "            color:  #f1f1f1;\n",
       "        }    #T_c4dbc964_094e_11eb_81eb_f8b46a1219c5row7_col8 {\n",
       "            background-color:  #d6d6e9;\n",
       "            color:  #000000;\n",
       "        }    #T_c4dbc964_094e_11eb_81eb_f8b46a1219c5row8_col0 {\n",
       "            background-color:  #c6cce3;\n",
       "            color:  #000000;\n",
       "        }    #T_c4dbc964_094e_11eb_81eb_f8b46a1219c5row8_col1 {\n",
       "            background-color:  #cdd0e5;\n",
       "            color:  #000000;\n",
       "        }    #T_c4dbc964_094e_11eb_81eb_f8b46a1219c5row8_col2 {\n",
       "            background-color:  #4c99c5;\n",
       "            color:  #000000;\n",
       "        }    #T_c4dbc964_094e_11eb_81eb_f8b46a1219c5row8_col3 {\n",
       "            background-color:  #d1d2e6;\n",
       "            color:  #000000;\n",
       "        }    #T_c4dbc964_094e_11eb_81eb_f8b46a1219c5row8_col4 {\n",
       "            background-color:  #efe9f3;\n",
       "            color:  #000000;\n",
       "        }    #T_c4dbc964_094e_11eb_81eb_f8b46a1219c5row8_col5 {\n",
       "            background-color:  #f7f0f7;\n",
       "            color:  #000000;\n",
       "        }    #T_c4dbc964_094e_11eb_81eb_f8b46a1219c5row8_col6 {\n",
       "            background-color:  #a5bddb;\n",
       "            color:  #000000;\n",
       "        }    #T_c4dbc964_094e_11eb_81eb_f8b46a1219c5row8_col7 {\n",
       "            background-color:  #d3d4e7;\n",
       "            color:  #000000;\n",
       "        }    #T_c4dbc964_094e_11eb_81eb_f8b46a1219c5row8_col8 {\n",
       "            background-color:  #023858;\n",
       "            color:  #f1f1f1;\n",
       "        }</style><table id=\"T_c4dbc964_094e_11eb_81eb_f8b46a1219c5\" ><thead>    <tr>        <th class=\"blank level0\" ></th>        <th class=\"col_heading level0 col0\" >track_id</th>        <th class=\"col_heading level0 col1\" >acousticness</th>        <th class=\"col_heading level0 col2\" >danceability</th>        <th class=\"col_heading level0 col3\" >energy</th>        <th class=\"col_heading level0 col4\" >instrumentalness</th>        <th class=\"col_heading level0 col5\" >liveness</th>        <th class=\"col_heading level0 col6\" >speechiness</th>        <th class=\"col_heading level0 col7\" >tempo</th>        <th class=\"col_heading level0 col8\" >valence</th>    </tr></thead><tbody>\n",
       "                <tr>\n",
       "                        <th id=\"T_c4dbc964_094e_11eb_81eb_f8b46a1219c5level0_row0\" class=\"row_heading level0 row0\" >track_id</th>\n",
       "                        <td id=\"T_c4dbc964_094e_11eb_81eb_f8b46a1219c5row0_col0\" class=\"data row0 col0\" >1.000000</td>\n",
       "                        <td id=\"T_c4dbc964_094e_11eb_81eb_f8b46a1219c5row0_col1\" class=\"data row0 col1\" >-0.372282</td>\n",
       "                        <td id=\"T_c4dbc964_094e_11eb_81eb_f8b46a1219c5row0_col2\" class=\"data row0 col2\" >0.049454</td>\n",
       "                        <td id=\"T_c4dbc964_094e_11eb_81eb_f8b46a1219c5row0_col3\" class=\"data row0 col3\" >0.140703</td>\n",
       "                        <td id=\"T_c4dbc964_094e_11eb_81eb_f8b46a1219c5row0_col4\" class=\"data row0 col4\" >-0.275623</td>\n",
       "                        <td id=\"T_c4dbc964_094e_11eb_81eb_f8b46a1219c5row0_col5\" class=\"data row0 col5\" >0.048231</td>\n",
       "                        <td id=\"T_c4dbc964_094e_11eb_81eb_f8b46a1219c5row0_col6\" class=\"data row0 col6\" >-0.026995</td>\n",
       "                        <td id=\"T_c4dbc964_094e_11eb_81eb_f8b46a1219c5row0_col7\" class=\"data row0 col7\" >-0.025392</td>\n",
       "                        <td id=\"T_c4dbc964_094e_11eb_81eb_f8b46a1219c5row0_col8\" class=\"data row0 col8\" >0.010070</td>\n",
       "            </tr>\n",
       "            <tr>\n",
       "                        <th id=\"T_c4dbc964_094e_11eb_81eb_f8b46a1219c5level0_row1\" class=\"row_heading level0 row1\" >acousticness</th>\n",
       "                        <td id=\"T_c4dbc964_094e_11eb_81eb_f8b46a1219c5row1_col0\" class=\"data row1 col0\" >-0.372282</td>\n",
       "                        <td id=\"T_c4dbc964_094e_11eb_81eb_f8b46a1219c5row1_col1\" class=\"data row1 col1\" >1.000000</td>\n",
       "                        <td id=\"T_c4dbc964_094e_11eb_81eb_f8b46a1219c5row1_col2\" class=\"data row1 col2\" >-0.028954</td>\n",
       "                        <td id=\"T_c4dbc964_094e_11eb_81eb_f8b46a1219c5row1_col3\" class=\"data row1 col3\" >-0.281619</td>\n",
       "                        <td id=\"T_c4dbc964_094e_11eb_81eb_f8b46a1219c5row1_col4\" class=\"data row1 col4\" >0.194780</td>\n",
       "                        <td id=\"T_c4dbc964_094e_11eb_81eb_f8b46a1219c5row1_col5\" class=\"data row1 col5\" >-0.019991</td>\n",
       "                        <td id=\"T_c4dbc964_094e_11eb_81eb_f8b46a1219c5row1_col6\" class=\"data row1 col6\" >0.072204</td>\n",
       "                        <td id=\"T_c4dbc964_094e_11eb_81eb_f8b46a1219c5row1_col7\" class=\"data row1 col7\" >-0.026310</td>\n",
       "                        <td id=\"T_c4dbc964_094e_11eb_81eb_f8b46a1219c5row1_col8\" class=\"data row1 col8\" >-0.013841</td>\n",
       "            </tr>\n",
       "            <tr>\n",
       "                        <th id=\"T_c4dbc964_094e_11eb_81eb_f8b46a1219c5level0_row2\" class=\"row_heading level0 row2\" >danceability</th>\n",
       "                        <td id=\"T_c4dbc964_094e_11eb_81eb_f8b46a1219c5row2_col0\" class=\"data row2 col0\" >0.049454</td>\n",
       "                        <td id=\"T_c4dbc964_094e_11eb_81eb_f8b46a1219c5row2_col1\" class=\"data row2 col1\" >-0.028954</td>\n",
       "                        <td id=\"T_c4dbc964_094e_11eb_81eb_f8b46a1219c5row2_col2\" class=\"data row2 col2\" >1.000000</td>\n",
       "                        <td id=\"T_c4dbc964_094e_11eb_81eb_f8b46a1219c5row2_col3\" class=\"data row2 col3\" >-0.242032</td>\n",
       "                        <td id=\"T_c4dbc964_094e_11eb_81eb_f8b46a1219c5row2_col4\" class=\"data row2 col4\" >-0.255217</td>\n",
       "                        <td id=\"T_c4dbc964_094e_11eb_81eb_f8b46a1219c5row2_col5\" class=\"data row2 col5\" >-0.106584</td>\n",
       "                        <td id=\"T_c4dbc964_094e_11eb_81eb_f8b46a1219c5row2_col6\" class=\"data row2 col6\" >0.276206</td>\n",
       "                        <td id=\"T_c4dbc964_094e_11eb_81eb_f8b46a1219c5row2_col7\" class=\"data row2 col7\" >-0.242089</td>\n",
       "                        <td id=\"T_c4dbc964_094e_11eb_81eb_f8b46a1219c5row2_col8\" class=\"data row2 col8\" >0.473165</td>\n",
       "            </tr>\n",
       "            <tr>\n",
       "                        <th id=\"T_c4dbc964_094e_11eb_81eb_f8b46a1219c5level0_row3\" class=\"row_heading level0 row3\" >energy</th>\n",
       "                        <td id=\"T_c4dbc964_094e_11eb_81eb_f8b46a1219c5row3_col0\" class=\"data row3 col0\" >0.140703</td>\n",
       "                        <td id=\"T_c4dbc964_094e_11eb_81eb_f8b46a1219c5row3_col1\" class=\"data row3 col1\" >-0.281619</td>\n",
       "                        <td id=\"T_c4dbc964_094e_11eb_81eb_f8b46a1219c5row3_col2\" class=\"data row3 col2\" >-0.242032</td>\n",
       "                        <td id=\"T_c4dbc964_094e_11eb_81eb_f8b46a1219c5row3_col3\" class=\"data row3 col3\" >1.000000</td>\n",
       "                        <td id=\"T_c4dbc964_094e_11eb_81eb_f8b46a1219c5row3_col4\" class=\"data row3 col4\" >0.028238</td>\n",
       "                        <td id=\"T_c4dbc964_094e_11eb_81eb_f8b46a1219c5row3_col5\" class=\"data row3 col5\" >0.113331</td>\n",
       "                        <td id=\"T_c4dbc964_094e_11eb_81eb_f8b46a1219c5row3_col6\" class=\"data row3 col6\" >-0.109983</td>\n",
       "                        <td id=\"T_c4dbc964_094e_11eb_81eb_f8b46a1219c5row3_col7\" class=\"data row3 col7\" >0.195227</td>\n",
       "                        <td id=\"T_c4dbc964_094e_11eb_81eb_f8b46a1219c5row3_col8\" class=\"data row3 col8\" >0.038603</td>\n",
       "            </tr>\n",
       "            <tr>\n",
       "                        <th id=\"T_c4dbc964_094e_11eb_81eb_f8b46a1219c5level0_row4\" class=\"row_heading level0 row4\" >instrumentalness</th>\n",
       "                        <td id=\"T_c4dbc964_094e_11eb_81eb_f8b46a1219c5row4_col0\" class=\"data row4 col0\" >-0.275623</td>\n",
       "                        <td id=\"T_c4dbc964_094e_11eb_81eb_f8b46a1219c5row4_col1\" class=\"data row4 col1\" >0.194780</td>\n",
       "                        <td id=\"T_c4dbc964_094e_11eb_81eb_f8b46a1219c5row4_col2\" class=\"data row4 col2\" >-0.255217</td>\n",
       "                        <td id=\"T_c4dbc964_094e_11eb_81eb_f8b46a1219c5row4_col3\" class=\"data row4 col3\" >0.028238</td>\n",
       "                        <td id=\"T_c4dbc964_094e_11eb_81eb_f8b46a1219c5row4_col4\" class=\"data row4 col4\" >1.000000</td>\n",
       "                        <td id=\"T_c4dbc964_094e_11eb_81eb_f8b46a1219c5row4_col5\" class=\"data row4 col5\" >-0.091022</td>\n",
       "                        <td id=\"T_c4dbc964_094e_11eb_81eb_f8b46a1219c5row4_col6\" class=\"data row4 col6\" >-0.366762</td>\n",
       "                        <td id=\"T_c4dbc964_094e_11eb_81eb_f8b46a1219c5row4_col7\" class=\"data row4 col7\" >0.022215</td>\n",
       "                        <td id=\"T_c4dbc964_094e_11eb_81eb_f8b46a1219c5row4_col8\" class=\"data row4 col8\" >-0.219967</td>\n",
       "            </tr>\n",
       "            <tr>\n",
       "                        <th id=\"T_c4dbc964_094e_11eb_81eb_f8b46a1219c5level0_row5\" class=\"row_heading level0 row5\" >liveness</th>\n",
       "                        <td id=\"T_c4dbc964_094e_11eb_81eb_f8b46a1219c5row5_col0\" class=\"data row5 col0\" >0.048231</td>\n",
       "                        <td id=\"T_c4dbc964_094e_11eb_81eb_f8b46a1219c5row5_col1\" class=\"data row5 col1\" >-0.019991</td>\n",
       "                        <td id=\"T_c4dbc964_094e_11eb_81eb_f8b46a1219c5row5_col2\" class=\"data row5 col2\" >-0.106584</td>\n",
       "                        <td id=\"T_c4dbc964_094e_11eb_81eb_f8b46a1219c5row5_col3\" class=\"data row5 col3\" >0.113331</td>\n",
       "                        <td id=\"T_c4dbc964_094e_11eb_81eb_f8b46a1219c5row5_col4\" class=\"data row5 col4\" >-0.091022</td>\n",
       "                        <td id=\"T_c4dbc964_094e_11eb_81eb_f8b46a1219c5row5_col5\" class=\"data row5 col5\" >1.000000</td>\n",
       "                        <td id=\"T_c4dbc964_094e_11eb_81eb_f8b46a1219c5row5_col6\" class=\"data row5 col6\" >0.041173</td>\n",
       "                        <td id=\"T_c4dbc964_094e_11eb_81eb_f8b46a1219c5row5_col7\" class=\"data row5 col7\" >0.002732</td>\n",
       "                        <td id=\"T_c4dbc964_094e_11eb_81eb_f8b46a1219c5row5_col8\" class=\"data row5 col8\" >-0.045093</td>\n",
       "            </tr>\n",
       "            <tr>\n",
       "                        <th id=\"T_c4dbc964_094e_11eb_81eb_f8b46a1219c5level0_row6\" class=\"row_heading level0 row6\" >speechiness</th>\n",
       "                        <td id=\"T_c4dbc964_094e_11eb_81eb_f8b46a1219c5row6_col0\" class=\"data row6 col0\" >-0.026995</td>\n",
       "                        <td id=\"T_c4dbc964_094e_11eb_81eb_f8b46a1219c5row6_col1\" class=\"data row6 col1\" >0.072204</td>\n",
       "                        <td id=\"T_c4dbc964_094e_11eb_81eb_f8b46a1219c5row6_col2\" class=\"data row6 col2\" >0.276206</td>\n",
       "                        <td id=\"T_c4dbc964_094e_11eb_81eb_f8b46a1219c5row6_col3\" class=\"data row6 col3\" >-0.109983</td>\n",
       "                        <td id=\"T_c4dbc964_094e_11eb_81eb_f8b46a1219c5row6_col4\" class=\"data row6 col4\" >-0.366762</td>\n",
       "                        <td id=\"T_c4dbc964_094e_11eb_81eb_f8b46a1219c5row6_col5\" class=\"data row6 col5\" >0.041173</td>\n",
       "                        <td id=\"T_c4dbc964_094e_11eb_81eb_f8b46a1219c5row6_col6\" class=\"data row6 col6\" >1.000000</td>\n",
       "                        <td id=\"T_c4dbc964_094e_11eb_81eb_f8b46a1219c5row6_col7\" class=\"data row6 col7\" >0.008241</td>\n",
       "                        <td id=\"T_c4dbc964_094e_11eb_81eb_f8b46a1219c5row6_col8\" class=\"data row6 col8\" >0.149894</td>\n",
       "            </tr>\n",
       "            <tr>\n",
       "                        <th id=\"T_c4dbc964_094e_11eb_81eb_f8b46a1219c5level0_row7\" class=\"row_heading level0 row7\" >tempo</th>\n",
       "                        <td id=\"T_c4dbc964_094e_11eb_81eb_f8b46a1219c5row7_col0\" class=\"data row7 col0\" >-0.025392</td>\n",
       "                        <td id=\"T_c4dbc964_094e_11eb_81eb_f8b46a1219c5row7_col1\" class=\"data row7 col1\" >-0.026310</td>\n",
       "                        <td id=\"T_c4dbc964_094e_11eb_81eb_f8b46a1219c5row7_col2\" class=\"data row7 col2\" >-0.242089</td>\n",
       "                        <td id=\"T_c4dbc964_094e_11eb_81eb_f8b46a1219c5row7_col3\" class=\"data row7 col3\" >0.195227</td>\n",
       "                        <td id=\"T_c4dbc964_094e_11eb_81eb_f8b46a1219c5row7_col4\" class=\"data row7 col4\" >0.022215</td>\n",
       "                        <td id=\"T_c4dbc964_094e_11eb_81eb_f8b46a1219c5row7_col5\" class=\"data row7 col5\" >0.002732</td>\n",
       "                        <td id=\"T_c4dbc964_094e_11eb_81eb_f8b46a1219c5row7_col6\" class=\"data row7 col6\" >0.008241</td>\n",
       "                        <td id=\"T_c4dbc964_094e_11eb_81eb_f8b46a1219c5row7_col7\" class=\"data row7 col7\" >1.000000</td>\n",
       "                        <td id=\"T_c4dbc964_094e_11eb_81eb_f8b46a1219c5row7_col8\" class=\"data row7 col8\" >0.052221</td>\n",
       "            </tr>\n",
       "            <tr>\n",
       "                        <th id=\"T_c4dbc964_094e_11eb_81eb_f8b46a1219c5level0_row8\" class=\"row_heading level0 row8\" >valence</th>\n",
       "                        <td id=\"T_c4dbc964_094e_11eb_81eb_f8b46a1219c5row8_col0\" class=\"data row8 col0\" >0.010070</td>\n",
       "                        <td id=\"T_c4dbc964_094e_11eb_81eb_f8b46a1219c5row8_col1\" class=\"data row8 col1\" >-0.013841</td>\n",
       "                        <td id=\"T_c4dbc964_094e_11eb_81eb_f8b46a1219c5row8_col2\" class=\"data row8 col2\" >0.473165</td>\n",
       "                        <td id=\"T_c4dbc964_094e_11eb_81eb_f8b46a1219c5row8_col3\" class=\"data row8 col3\" >0.038603</td>\n",
       "                        <td id=\"T_c4dbc964_094e_11eb_81eb_f8b46a1219c5row8_col4\" class=\"data row8 col4\" >-0.219967</td>\n",
       "                        <td id=\"T_c4dbc964_094e_11eb_81eb_f8b46a1219c5row8_col5\" class=\"data row8 col5\" >-0.045093</td>\n",
       "                        <td id=\"T_c4dbc964_094e_11eb_81eb_f8b46a1219c5row8_col6\" class=\"data row8 col6\" >0.149894</td>\n",
       "                        <td id=\"T_c4dbc964_094e_11eb_81eb_f8b46a1219c5row8_col7\" class=\"data row8 col7\" >0.052221</td>\n",
       "                        <td id=\"T_c4dbc964_094e_11eb_81eb_f8b46a1219c5row8_col8\" class=\"data row8 col8\" >1.000000</td>\n",
       "            </tr>\n",
       "    </tbody></table>"
      ],
      "text/plain": [
       "<pandas.io.formats.style.Styler at 0x19df01410a0>"
      ]
     },
     "execution_count": 3,
     "metadata": {},
     "output_type": "execute_result"
    }
   ],
   "source": [
    "# Correlation Matrix\n",
    "corr_matrix = df.corr()\n",
    "corr_matrix.style.background_gradient()"
   ]
  },
  {
   "cell_type": "code",
   "execution_count": 7,
   "metadata": {},
   "outputs": [],
   "source": [
    "x = df.drop([\"genre_top\",\"track_id\"], axis=1)\n",
    "\n",
    "y = df[\"genre_top\"]\n",
    "\n",
    "#standardization\n",
    "std_scaled = preprocessing.StandardScaler().fit_transform(x)"
   ]
  },
  {
   "cell_type": "code",
   "execution_count": 8,
   "metadata": {},
   "outputs": [
    {
     "data": {
      "text/plain": [
       "PCA()"
      ]
     },
     "execution_count": 8,
     "metadata": {},
     "output_type": "execute_result"
    }
   ],
   "source": [
    "# Principle Component Analysis for Feature Selection\n",
    "pca = PCA()\n",
    "pca.fit(std_scaled)"
   ]
  },
  {
   "cell_type": "code",
   "execution_count": 9,
   "metadata": {},
   "outputs": [
    {
     "data": {
      "text/plain": [
       "array([0.24297674, 0.18044316, 0.13650309, 0.12994089, 0.11056248,\n",
       "       0.08302245, 0.06923783, 0.04731336])"
      ]
     },
     "execution_count": 9,
     "metadata": {},
     "output_type": "execute_result"
    }
   ],
   "source": [
    "var = pca.explained_variance_ratio_\n",
    "var"
   ]
  },
  {
   "cell_type": "code",
   "execution_count": 11,
   "metadata": {},
   "outputs": [
    {
     "data": {
      "text/plain": [
       "<BarContainer object of 8 artists>"
      ]
     },
     "execution_count": 11,
     "metadata": {},
     "output_type": "execute_result"
    },
    {
     "data": {
      "image/png": "[encoded data removed]",
      "text/plain": [
       "<Figure size 432x288 with 1 Axes>"
      ]
     },
     "metadata": {
      "needs_background": "light"
     },
     "output_type": "display_data"
    }
   ],
   "source": [
    "fig, ax = plt.subplots()\n",
    "ax.bar(range(pca.n_components_),var)"
   ]
  },
  {
   "cell_type": "code",
   "execution_count": 13,
   "metadata": {},
   "outputs": [
    {
     "data": {
      "text/plain": [
       "array([0.24297674, 0.4234199 , 0.55992299, 0.68986388, 0.80042636,\n",
       "       0.88344881, 0.95268664, 1.        ])"
      ]
     },
     "execution_count": 13,
     "metadata": {},
     "output_type": "execute_result"
    }
   ],
   "source": [
    "cumulative_var = np.cumsum(var)\n",
    "cumulative_var"
   ]
  },
  {
   "cell_type": "code",
   "execution_count": 14,
   "metadata": {},
   "outputs": [
    {
     "data": {
      "text/plain": [
       "<matplotlib.lines.Line2D at 0x19df6135bb0>"
      ]
     },
     "execution_count": 14,
     "metadata": {},
     "output_type": "execute_result"
    },
    {
     "data": {
      "image/png": "[encoded data removed]",
      "text/plain": [
       "<Figure size 432x288 with 1 Axes>"
      ]
     },
     "metadata": {
      "needs_background": "light"
     },
     "output_type": "display_data"
    }
   ],
   "source": [
    "fig, ax = plt.subplots()\n",
    "ax.plot(range(8), cumulative_var)\n",
    "ax.axhline(y=0.9, linestyle='--')"
   ]
  },
  {
   "cell_type": "code",
   "execution_count": 15,
   "metadata": {},
   "outputs": [
    {
     "data": {
      "text/plain": [
       "array([[ 1.59666656,  1.0500117 , -0.01778555,  0.73142514, -0.36832686],\n",
       "       [ 1.58153526,  1.07661327,  1.04346038,  0.16929959, -1.81917099],\n",
       "       [ 2.01545627,  1.4085176 ,  0.24506524, -1.53545814,  0.62769959],\n",
       "       ...,\n",
       "       [ 1.66908628,  1.84010121,  2.38294303, -2.12871589,  1.23664547],\n",
       "       [ 1.17001951,  2.03158181,  0.08689922,  0.88396123, -1.45765649],\n",
       "       [ 2.36368976,  1.15900708,  0.4473735 , -1.35198128, -0.03592518]])"
      ]
     },
     "execution_count": 15,
     "metadata": {},
     "output_type": "execute_result"
    }
   ],
   "source": [
    "n_components = 5\n",
    "pca = PCA(n_components, random_state=1)\n",
    "pca.fit(std_scaled)\n",
    "pca_projection = pca.transform(std_scaled)\n",
    "pca_projection"
   ]
  },
  {
   "cell_type": "code",
   "execution_count": 16,
   "metadata": {},
   "outputs": [
    {
     "data": {
      "text/plain": [
       "(4802, 5)"
      ]
     },
     "execution_count": 16,
     "metadata": {},
     "output_type": "execute_result"
    }
   ],
   "source": [
    "pca_projection.shape"
   ]
  },
  {
   "cell_type": "markdown",
   "metadata": {},
   "source": [
    "## Model Building"
   ]
  },
  {
   "cell_type": "code",
   "execution_count": 17,
   "metadata": {},
   "outputs": [],
   "source": [
    "train_x, test_x, train_y, test_y = train_test_split(pca_projection, y_target,random_state=42)\n",
    "\n",
    "treeclf = DecisionTreeClassifier(random_state=96)\n",
    "treeclf.fit(train_x,train_y)\n",
    "\n",
    "y_pred = treeclf.predict(test_x)"
   ]
  },
  {
   "cell_type": "code",
   "execution_count": 18,
   "metadata": {},
   "outputs": [
    {
     "name": "stdout",
     "output_type": "stream",
     "text": [
      "[[142  83]\n",
      " [ 88 888]]\n"
     ]
    },
    {
     "data": {
      "text/plain": [
       "0.8576186511240633"
      ]
     },
     "execution_count": 18,
     "metadata": {},
     "output_type": "execute_result"
    }
   ],
   "source": [
    "from sklearn.metrics import confusion_matrix, accuracy_score,classification_report\n",
    "cm = confusion_matrix(test_y, y_pred)\n",
    "print(cm)\n",
    "accuracy_score(test_y, y_pred)"
   ]
  },
  {
   "cell_type": "code",
   "execution_count": 20,
   "metadata": {},
   "outputs": [
    {
     "name": "stdout",
     "output_type": "stream",
     "text": [
      "              precision    recall  f1-score   support\n",
      "\n",
      "     Hip-Hop       0.62      0.63      0.62       225\n",
      "        Rock       0.91      0.91      0.91       976\n",
      "\n",
      "    accuracy                           0.86      1201\n",
      "   macro avg       0.77      0.77      0.77      1201\n",
      "weighted avg       0.86      0.86      0.86      1201\n",
      "\n"
     ]
    }
   ],
   "source": [
    "print(classification_report(test_y, y_pred))"
   ]
  },
  {
   "cell_type": "markdown",
   "metadata": {},
   "source": [
    "## Balance Data"
   ]
  },
  {
   "cell_type": "code",
   "execution_count": 21,
   "metadata": {},
   "outputs": [],
   "source": [
    "hop = df.loc[df[\"genre_top\"] == \"Hip-Hop\"]\n",
    "rock = df.loc[df[\"genre_top\"] == \"Rock\"]"
   ]
  },
  {
   "cell_type": "code",
   "execution_count": 22,
   "metadata": {},
   "outputs": [
    {
     "name": "stdout",
     "output_type": "stream",
     "text": [
      "910\n",
      "3892\n"
     ]
    }
   ],
   "source": [
    "print(len(hop))\n",
    "print(len(rock))"
   ]
  },
  {
   "cell_type": "code",
   "execution_count": 23,
   "metadata": {},
   "outputs": [
    {
     "data": {
      "text/plain": [
       "Hip-Hop    910\n",
       "Rock       910\n",
       "Name: genre_top, dtype: int64"
      ]
     },
     "execution_count": 23,
     "metadata": {},
     "output_type": "execute_result"
    }
   ],
   "source": [
    "balanced_dataset = pd.concat([rock.sample(n=910,random_state=10), hop.sample(n=910)], axis=0)\n",
    "balanced_dataset.genre_top.value_counts()"
   ]
  },
  {
   "cell_type": "code",
   "execution_count": 25,
   "metadata": {},
   "outputs": [],
   "source": [
    "x_features_bal = balanced_dataset.drop(['genre_top', 'track_id'], axis=1) \n",
    "y_target_bal = balanced_dataset['genre_top']\n",
    "std_scaled_bal = preprocessing.StandardScaler().fit_transform(x_features_bal)\n",
    "\n",
    "pca_bal = PCA(n_components, random_state=1)\n",
    "pca_bal.fit(std_scaled_bal)\n",
    "pca_projection_bal = pca.transform(std_scaled_bal)"
   ]
  },
  {
   "cell_type": "code",
   "execution_count": 26,
   "metadata": {},
   "outputs": [
    {
     "data": {
      "text/plain": [
       "(1820, 5)"
      ]
     },
     "execution_count": 26,
     "metadata": {},
     "output_type": "execute_result"
    }
   ],
   "source": [
    "pca_projection_bal.shape"
   ]
  },
  {
   "cell_type": "code",
   "execution_count": 27,
   "metadata": {},
   "outputs": [],
   "source": [
    "X_train_bal, X_test_bal, y_train_bal, y_test_bal = train_test_split(pca_projection_bal, y_target_bal,random_state=0)\n",
    "\n",
    "# Train our decision tree\n",
    "tree_bal = DecisionTreeClassifier(random_state=42)\n",
    "tree_bal.fit(X_train_bal, y_train_bal)\n",
    "\n",
    "#Predicting the Test set results\n",
    "y_pred_bal = tree_bal.predict(X_test_bal)"
   ]
  },
  {
   "cell_type": "code",
   "execution_count": 28,
   "metadata": {},
   "outputs": [
    {
     "name": "stdout",
     "output_type": "stream",
     "text": [
      "(1365, 5)\n",
      "(455, 5)\n",
      "(1365,)\n",
      "(455,)\n"
     ]
    }
   ],
   "source": [
    "print(X_train_bal.shape)\n",
    "print(X_test_bal.shape)\n",
    "print(y_train_bal.shape)\n",
    "print(y_test_bal.shape)"
   ]
  },
  {
   "cell_type": "code",
   "execution_count": 35,
   "metadata": {},
   "outputs": [
    {
     "name": "stdout",
     "output_type": "stream",
     "text": [
      "[[168  61]\n",
      " [ 37 189]]\n"
     ]
    },
    {
     "data": {
      "text/plain": [
       "0.7846153846153846"
      ]
     },
     "execution_count": 35,
     "metadata": {},
     "output_type": "execute_result"
    }
   ],
   "source": [
    "cm_bal = confusion_matrix(y_test_bal, y_pred_bal)\n",
    "print(cm_bal)\n",
    "accuracy_score(y_test_bal, y_pred_bal)"
   ]
  },
  {
   "cell_type": "code",
   "execution_count": 37,
   "metadata": {},
   "outputs": [],
   "source": [
    "classifier_bal = LogisticRegression(random_state = 42)\n",
    "classifier_bal.fit(X_train_bal, y_train_bal)\n",
    "y_pred_logreg_bal = classifier_bal.predict(X_test_bal)"
   ]
  },
  {
   "cell_type": "code",
   "execution_count": 38,
   "metadata": {},
   "outputs": [
    {
     "name": "stdout",
     "output_type": "stream",
     "text": [
      "[[180  49]\n",
      " [ 34 192]]\n"
     ]
    },
    {
     "data": {
      "text/plain": [
       "0.8175824175824176"
      ]
     },
     "execution_count": 38,
     "metadata": {},
     "output_type": "execute_result"
    }
   ],
   "source": [
    "\n",
    "cm_bal = confusion_matrix(y_test_bal, y_pred_logreg_bal)\n",
    "print(cm_bal)\n",
    "accuracy_score(y_test_bal, y_pred_logreg_bal)"
   ]
  },
  {
   "cell_type": "markdown",
   "metadata": {},
   "source": [
    "## Using Cross Validation"
   ]
  },
  {
   "cell_type": "code",
   "execution_count": 30,
   "metadata": {},
   "outputs": [],
   "source": [
    "\n",
    "from sklearn.model_selection import KFold, cross_val_score"
   ]
  },
  {
   "cell_type": "code",
   "execution_count": 31,
   "metadata": {},
   "outputs": [],
   "source": [
    "kf = KFold(n_splits=30)"
   ]
  },
  {
   "cell_type": "code",
   "execution_count": 32,
   "metadata": {},
   "outputs": [],
   "source": [
    "tree = DecisionTreeClassifier(random_state=42)\n",
    "logreg = LogisticRegression(random_state=42)"
   ]
  },
  {
   "cell_type": "code",
   "execution_count": 33,
   "metadata": {},
   "outputs": [
    {
     "name": "stdout",
     "output_type": "stream",
     "text": [
      "Decision Tree: 0.8400465838509317 Logistic Regression: 0.8714855072463767\n"
     ]
    }
   ],
   "source": [
    "tree_score = cross_val_score(tree, pca_projection, y_target, cv=kf)\n",
    "log_reg_score = cross_val_score(logreg, pca_projection,y_target, cv=kf)\n",
    "\n",
    "# Print the mean of each array of scores\n",
    "print(\"Decision Tree:\", np.mean(tree_score), \"Logistic Regression:\", np.mean(log_reg_score))"
   ]
  },
  {
   "cell_type": "code",
   "execution_count": 39,
   "metadata": {},
   "outputs": [],
   "source": [
    "model = \"model.pkl\"  \n",
    "\n",
    "with open(model, 'wb') as f:  \n",
    "    pickle.dump(classifier_bal, f)"
   ]
  },
  {
   "cell_type": "code",
   "execution_count": null,
   "metadata": {},
   "outputs": [],
   "source": []
  }
 ],
 "metadata": {
  "kernelspec": {
   "display_name": "Python 3",
   "language": "python",
   "name": "python3"
  },
  "language_info": {
   "codemirror_mode": {
    "name": "ipython",
    "version": 3
   },
   "file_extension": ".py",
   "mimetype": "text/x-python",
   "name": "python",
   "nbconvert_exporter": "python",
   "pygments_lexer": "ipython3",
   "version": "3.8.3"
  }
 },
 "nbformat": 4,
 "nbformat_minor": 4
}
